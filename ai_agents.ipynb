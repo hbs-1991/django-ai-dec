{
 "cells": [
  {
   "cell_type": "code",
   "execution_count": 1,
   "metadata": {},
   "outputs": [
    {
     "name": "stdout",
     "output_type": "stream",
     "text": [
      "Requirement already satisfied: openai-agents in c:\\users\\pc\\appdata\\local\\programs\\python\\python313\\lib\\site-packages (0.0.15)\n",
      "Requirement already satisfied: griffe<2,>=1.5.6 in c:\\users\\pc\\appdata\\local\\programs\\python\\python313\\lib\\site-packages (from openai-agents) (1.7.3)\n",
      "Requirement already satisfied: mcp<2,>=1.8.0 in c:\\users\\pc\\appdata\\local\\programs\\python\\python313\\lib\\site-packages (from openai-agents) (1.9.0)\n",
      "Requirement already satisfied: openai>=1.76.0 in c:\\users\\pc\\appdata\\local\\programs\\python\\python313\\lib\\site-packages (from openai-agents) (1.79.0)\n",
      "Requirement already satisfied: pydantic<3,>=2.10 in c:\\users\\pc\\appdata\\local\\programs\\python\\python313\\lib\\site-packages (from openai-agents) (2.10.6)\n",
      "Requirement already satisfied: requests<3,>=2.0 in c:\\users\\pc\\appdata\\local\\programs\\python\\python313\\lib\\site-packages (from openai-agents) (2.32.3)\n",
      "Requirement already satisfied: types-requests<3,>=2.0 in c:\\users\\pc\\appdata\\local\\programs\\python\\python313\\lib\\site-packages (from openai-agents) (2.32.0.20250515)\n",
      "Requirement already satisfied: typing-extensions<5,>=4.12.2 in c:\\users\\pc\\appdata\\local\\programs\\python\\python313\\lib\\site-packages (from openai-agents) (4.13.2)\n",
      "Requirement already satisfied: colorama>=0.4 in c:\\users\\pc\\appdata\\local\\programs\\python\\python313\\lib\\site-packages (from griffe<2,>=1.5.6->openai-agents) (0.4.6)\n",
      "Requirement already satisfied: anyio>=4.5 in c:\\users\\pc\\appdata\\local\\programs\\python\\python313\\lib\\site-packages (from mcp<2,>=1.8.0->openai-agents) (4.8.0)\n",
      "Requirement already satisfied: httpx-sse>=0.4 in c:\\users\\pc\\appdata\\local\\programs\\python\\python313\\lib\\site-packages (from mcp<2,>=1.8.0->openai-agents) (0.4.0)\n",
      "Requirement already satisfied: httpx>=0.27 in c:\\users\\pc\\appdata\\local\\programs\\python\\python313\\lib\\site-packages (from mcp<2,>=1.8.0->openai-agents) (0.28.1)\n",
      "Requirement already satisfied: pydantic-settings>=2.5.2 in c:\\users\\pc\\appdata\\local\\programs\\python\\python313\\lib\\site-packages (from mcp<2,>=1.8.0->openai-agents) (2.8.1)\n",
      "Requirement already satisfied: python-multipart>=0.0.9 in c:\\users\\pc\\appdata\\local\\programs\\python\\python313\\lib\\site-packages (from mcp<2,>=1.8.0->openai-agents) (0.0.20)\n",
      "Requirement already satisfied: sse-starlette>=1.6.1 in c:\\users\\pc\\appdata\\local\\programs\\python\\python313\\lib\\site-packages (from mcp<2,>=1.8.0->openai-agents) (2.2.1)\n",
      "Requirement already satisfied: starlette>=0.27 in c:\\users\\pc\\appdata\\local\\programs\\python\\python313\\lib\\site-packages (from mcp<2,>=1.8.0->openai-agents) (0.45.3)\n",
      "Requirement already satisfied: uvicorn>=0.23.1 in c:\\users\\pc\\appdata\\local\\programs\\python\\python313\\lib\\site-packages (from mcp<2,>=1.8.0->openai-agents) (0.34.0)\n",
      "Requirement already satisfied: distro<2,>=1.7.0 in c:\\users\\pc\\appdata\\local\\programs\\python\\python313\\lib\\site-packages (from openai>=1.76.0->openai-agents) (1.9.0)\n",
      "Requirement already satisfied: jiter<1,>=0.4.0 in c:\\users\\pc\\appdata\\local\\programs\\python\\python313\\lib\\site-packages (from openai>=1.76.0->openai-agents) (0.8.2)\n",
      "Requirement already satisfied: sniffio in c:\\users\\pc\\appdata\\local\\programs\\python\\python313\\lib\\site-packages (from openai>=1.76.0->openai-agents) (1.3.1)\n",
      "Requirement already satisfied: tqdm>4 in c:\\users\\pc\\appdata\\local\\programs\\python\\python313\\lib\\site-packages (from openai>=1.76.0->openai-agents) (4.67.1)\n",
      "Requirement already satisfied: annotated-types>=0.6.0 in c:\\users\\pc\\appdata\\local\\programs\\python\\python313\\lib\\site-packages (from pydantic<3,>=2.10->openai-agents) (0.7.0)\n",
      "Requirement already satisfied: pydantic-core==2.27.2 in c:\\users\\pc\\appdata\\local\\programs\\python\\python313\\lib\\site-packages (from pydantic<3,>=2.10->openai-agents) (2.27.2)\n",
      "Requirement already satisfied: charset-normalizer<4,>=2 in c:\\users\\pc\\appdata\\local\\programs\\python\\python313\\lib\\site-packages (from requests<3,>=2.0->openai-agents) (3.4.1)\n",
      "Requirement already satisfied: idna<4,>=2.5 in c:\\users\\pc\\appdata\\local\\programs\\python\\python313\\lib\\site-packages (from requests<3,>=2.0->openai-agents) (3.10)\n",
      "Requirement already satisfied: urllib3<3,>=1.21.1 in c:\\users\\pc\\appdata\\local\\programs\\python\\python313\\lib\\site-packages (from requests<3,>=2.0->openai-agents) (2.4.0)\n",
      "Requirement already satisfied: certifi>=2017.4.17 in c:\\users\\pc\\appdata\\local\\programs\\python\\python313\\lib\\site-packages (from requests<3,>=2.0->openai-agents) (2025.6.15)\n",
      "Requirement already satisfied: httpcore==1.* in c:\\users\\pc\\appdata\\local\\programs\\python\\python313\\lib\\site-packages (from httpx>=0.27->mcp<2,>=1.8.0->openai-agents) (1.0.7)\n",
      "Requirement already satisfied: h11<0.15,>=0.13 in c:\\users\\pc\\appdata\\local\\programs\\python\\python313\\lib\\site-packages (from httpcore==1.*->httpx>=0.27->mcp<2,>=1.8.0->openai-agents) (0.14.0)\n",
      "Requirement already satisfied: python-dotenv>=0.21.0 in c:\\users\\pc\\appdata\\local\\programs\\python\\python313\\lib\\site-packages (from pydantic-settings>=2.5.2->mcp<2,>=1.8.0->openai-agents) (1.0.1)\n",
      "Requirement already satisfied: click>=7.0 in c:\\users\\pc\\appdata\\local\\programs\\python\\python313\\lib\\site-packages (from uvicorn>=0.23.1->mcp<2,>=1.8.0->openai-agents) (8.1.8)\n"
     ]
    },
    {
     "name": "stderr",
     "output_type": "stream",
     "text": [
      "\n",
      "[notice] A new release of pip is available: 25.0.1 -> 25.1.1\n",
      "[notice] To update, run: python.exe -m pip install --upgrade pip\n"
     ]
    }
   ],
   "source": [
    "!pip install openai-agents"
   ]
  },
  {
   "cell_type": "code",
   "execution_count": 2,
   "metadata": {},
   "outputs": [],
   "source": [
    "from dotenv import load_dotenv\n",
    "import os\n",
    "\n",
    "load_dotenv()\n",
    "\n",
    "OPENAI_API_KEY = os.environ.get(\"OPENAI_API_KEY\")"
   ]
  },
  {
   "cell_type": "code",
   "execution_count": 2,
   "metadata": {},
   "outputs": [
    {
     "data": {
      "text/plain": [
       "'680221000\\n700991000'"
      ]
     },
     "execution_count": 2,
     "metadata": {},
     "output_type": "execute_result"
    }
   ],
   "source": [
    "from agents import Agent, FileSearchTool, Runner\n",
    "\n",
    "test_agent = Agent(\n",
    "    name= \"AI Declarant\",\n",
    "    instructions= \"Роль: Ты — высокоточный классификатор товаров по ТН ВЭД Туркменистана, использующий векторную базу описаний в котором загружена ТН ВЭД кодовая база Туркменистана.\"\n",
    "                  \"Задание: По каждому входному описанию товара определяй наиболее релевантный 9-значный код ТН ВЭД.\"\n",
    "                  \"Правила ответа:\"\n",
    "                  \"• Выводи только сам код (9 цифр) без каких-либо символов, текста или пояснений.\"\n",
    "                  \"Формат ввода: произвольное текстовое описание товара (RU).\"\n",
    "                  \"Формат вывода: `XXXXXXXXXX` либо `UNKNOWN`.\",\n",
    "\n",
    "    model= \"gpt-4.1\",\n",
    "    tools= [\n",
    "        FileSearchTool(\n",
    "            vector_store_ids= [\"vs_685e39e636b4819192a076ca914b0e1e\"],\n",
    "            max_num_results= 3,\n",
    "            include_search_results= True\n",
    "        )\n",
    "    ]    \n",
    ")\n",
    "\n",
    "results = await Runner.run(test_agent, f\"Какой ТНВЭД код [Наименование товара :мрамор], /n [Наименование товара :зеркало\")\n",
    "\n",
    "results.final_output"
   ]
  }
 ],
 "metadata": {
  "kernelspec": {
   "display_name": "Python 3",
   "language": "python",
   "name": "python3"
  },
  "language_info": {
   "codemirror_mode": {
    "name": "ipython",
    "version": 3
   },
   "file_extension": ".py",
   "mimetype": "text/x-python",
   "name": "python",
   "nbconvert_exporter": "python",
   "pygments_lexer": "ipython3",
   "version": "3.13.1"
  }
 },
 "nbformat": 4,
 "nbformat_minor": 2
}
